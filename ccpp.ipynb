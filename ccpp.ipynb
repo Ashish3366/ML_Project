{
 "cells": [
  {
   "cell_type": "markdown",
   "id": "7fe1962c",
   "metadata": {},
   "source": [
    "# importing libraries"
   ]
  },
  {
   "cell_type": "code",
   "execution_count": 1,
   "id": "0c60a592",
   "metadata": {},
   "outputs": [],
   "source": [
    "import pandas as pd \n",
    "import numpy as np"
   ]
  },
  {
   "cell_type": "markdown",
   "id": "eeb78424",
   "metadata": {},
   "source": [
    "# Read csv file"
   ]
  },
  {
   "cell_type": "code",
   "execution_count": 2,
   "id": "a385a013",
   "metadata": {},
   "outputs": [],
   "source": [
    "df = pd.read_csv('ccpp.csv')"
   ]
  },
  {
   "cell_type": "code",
   "execution_count": 3,
   "id": "8ebb2415",
   "metadata": {},
   "outputs": [
    {
     "data": {
      "text/html": [
       "<div>\n",
       "<style scoped>\n",
       "    .dataframe tbody tr th:only-of-type {\n",
       "        vertical-align: middle;\n",
       "    }\n",
       "\n",
       "    .dataframe tbody tr th {\n",
       "        vertical-align: top;\n",
       "    }\n",
       "\n",
       "    .dataframe thead th {\n",
       "        text-align: right;\n",
       "    }\n",
       "</style>\n",
       "<table border=\"1\" class=\"dataframe\">\n",
       "  <thead>\n",
       "    <tr style=\"text-align: right;\">\n",
       "      <th></th>\n",
       "      <th>AT</th>\n",
       "      <th>V</th>\n",
       "      <th>AP</th>\n",
       "      <th>RH</th>\n",
       "      <th>PE</th>\n",
       "    </tr>\n",
       "  </thead>\n",
       "  <tbody>\n",
       "    <tr>\n",
       "      <th>0</th>\n",
       "      <td>14.96</td>\n",
       "      <td>41.76</td>\n",
       "      <td>1024.07</td>\n",
       "      <td>73.17</td>\n",
       "      <td>463.26</td>\n",
       "    </tr>\n",
       "    <tr>\n",
       "      <th>1</th>\n",
       "      <td>25.18</td>\n",
       "      <td>62.96</td>\n",
       "      <td>1020.04</td>\n",
       "      <td>59.08</td>\n",
       "      <td>444.37</td>\n",
       "    </tr>\n",
       "    <tr>\n",
       "      <th>2</th>\n",
       "      <td>5.11</td>\n",
       "      <td>39.40</td>\n",
       "      <td>1012.16</td>\n",
       "      <td>92.14</td>\n",
       "      <td>488.56</td>\n",
       "    </tr>\n",
       "    <tr>\n",
       "      <th>3</th>\n",
       "      <td>20.86</td>\n",
       "      <td>57.32</td>\n",
       "      <td>1010.24</td>\n",
       "      <td>76.64</td>\n",
       "      <td>446.48</td>\n",
       "    </tr>\n",
       "    <tr>\n",
       "      <th>4</th>\n",
       "      <td>10.82</td>\n",
       "      <td>37.50</td>\n",
       "      <td>1009.23</td>\n",
       "      <td>96.62</td>\n",
       "      <td>473.90</td>\n",
       "    </tr>\n",
       "    <tr>\n",
       "      <th>5</th>\n",
       "      <td>26.27</td>\n",
       "      <td>59.44</td>\n",
       "      <td>1012.23</td>\n",
       "      <td>58.77</td>\n",
       "      <td>443.67</td>\n",
       "    </tr>\n",
       "    <tr>\n",
       "      <th>6</th>\n",
       "      <td>15.89</td>\n",
       "      <td>43.96</td>\n",
       "      <td>1014.02</td>\n",
       "      <td>75.24</td>\n",
       "      <td>467.35</td>\n",
       "    </tr>\n",
       "    <tr>\n",
       "      <th>7</th>\n",
       "      <td>9.48</td>\n",
       "      <td>44.71</td>\n",
       "      <td>1019.12</td>\n",
       "      <td>66.43</td>\n",
       "      <td>478.42</td>\n",
       "    </tr>\n",
       "    <tr>\n",
       "      <th>8</th>\n",
       "      <td>14.64</td>\n",
       "      <td>45.00</td>\n",
       "      <td>1021.78</td>\n",
       "      <td>41.25</td>\n",
       "      <td>475.98</td>\n",
       "    </tr>\n",
       "    <tr>\n",
       "      <th>9</th>\n",
       "      <td>11.74</td>\n",
       "      <td>43.56</td>\n",
       "      <td>1015.14</td>\n",
       "      <td>70.72</td>\n",
       "      <td>477.50</td>\n",
       "    </tr>\n",
       "    <tr>\n",
       "      <th>10</th>\n",
       "      <td>17.99</td>\n",
       "      <td>43.72</td>\n",
       "      <td>1008.64</td>\n",
       "      <td>75.04</td>\n",
       "      <td>453.02</td>\n",
       "    </tr>\n",
       "    <tr>\n",
       "      <th>11</th>\n",
       "      <td>20.14</td>\n",
       "      <td>46.93</td>\n",
       "      <td>1014.66</td>\n",
       "      <td>64.22</td>\n",
       "      <td>453.99</td>\n",
       "    </tr>\n",
       "    <tr>\n",
       "      <th>12</th>\n",
       "      <td>24.34</td>\n",
       "      <td>73.50</td>\n",
       "      <td>1011.31</td>\n",
       "      <td>84.15</td>\n",
       "      <td>440.29</td>\n",
       "    </tr>\n",
       "    <tr>\n",
       "      <th>13</th>\n",
       "      <td>25.71</td>\n",
       "      <td>58.59</td>\n",
       "      <td>1012.77</td>\n",
       "      <td>61.83</td>\n",
       "      <td>451.28</td>\n",
       "    </tr>\n",
       "    <tr>\n",
       "      <th>14</th>\n",
       "      <td>26.19</td>\n",
       "      <td>69.34</td>\n",
       "      <td>1009.48</td>\n",
       "      <td>87.59</td>\n",
       "      <td>433.99</td>\n",
       "    </tr>\n",
       "    <tr>\n",
       "      <th>15</th>\n",
       "      <td>21.42</td>\n",
       "      <td>43.79</td>\n",
       "      <td>1015.76</td>\n",
       "      <td>43.08</td>\n",
       "      <td>462.19</td>\n",
       "    </tr>\n",
       "    <tr>\n",
       "      <th>16</th>\n",
       "      <td>18.21</td>\n",
       "      <td>45.00</td>\n",
       "      <td>1022.86</td>\n",
       "      <td>48.84</td>\n",
       "      <td>467.54</td>\n",
       "    </tr>\n",
       "    <tr>\n",
       "      <th>17</th>\n",
       "      <td>11.04</td>\n",
       "      <td>41.74</td>\n",
       "      <td>1022.60</td>\n",
       "      <td>77.51</td>\n",
       "      <td>477.20</td>\n",
       "    </tr>\n",
       "    <tr>\n",
       "      <th>18</th>\n",
       "      <td>14.45</td>\n",
       "      <td>52.75</td>\n",
       "      <td>1023.97</td>\n",
       "      <td>63.59</td>\n",
       "      <td>459.85</td>\n",
       "    </tr>\n",
       "    <tr>\n",
       "      <th>19</th>\n",
       "      <td>13.97</td>\n",
       "      <td>38.47</td>\n",
       "      <td>1015.15</td>\n",
       "      <td>55.28</td>\n",
       "      <td>464.30</td>\n",
       "    </tr>\n",
       "    <tr>\n",
       "      <th>20</th>\n",
       "      <td>17.76</td>\n",
       "      <td>42.42</td>\n",
       "      <td>1009.09</td>\n",
       "      <td>66.26</td>\n",
       "      <td>468.27</td>\n",
       "    </tr>\n",
       "    <tr>\n",
       "      <th>21</th>\n",
       "      <td>5.41</td>\n",
       "      <td>40.07</td>\n",
       "      <td>1019.16</td>\n",
       "      <td>64.77</td>\n",
       "      <td>495.24</td>\n",
       "    </tr>\n",
       "    <tr>\n",
       "      <th>22</th>\n",
       "      <td>7.76</td>\n",
       "      <td>42.28</td>\n",
       "      <td>1008.52</td>\n",
       "      <td>83.31</td>\n",
       "      <td>483.80</td>\n",
       "    </tr>\n",
       "    <tr>\n",
       "      <th>23</th>\n",
       "      <td>27.23</td>\n",
       "      <td>63.90</td>\n",
       "      <td>1014.30</td>\n",
       "      <td>47.19</td>\n",
       "      <td>443.61</td>\n",
       "    </tr>\n",
       "    <tr>\n",
       "      <th>24</th>\n",
       "      <td>27.36</td>\n",
       "      <td>48.60</td>\n",
       "      <td>1003.18</td>\n",
       "      <td>54.93</td>\n",
       "      <td>436.06</td>\n",
       "    </tr>\n",
       "    <tr>\n",
       "      <th>25</th>\n",
       "      <td>27.47</td>\n",
       "      <td>70.72</td>\n",
       "      <td>1009.97</td>\n",
       "      <td>74.62</td>\n",
       "      <td>443.25</td>\n",
       "    </tr>\n",
       "    <tr>\n",
       "      <th>26</th>\n",
       "      <td>14.60</td>\n",
       "      <td>39.31</td>\n",
       "      <td>1011.11</td>\n",
       "      <td>72.52</td>\n",
       "      <td>464.16</td>\n",
       "    </tr>\n",
       "    <tr>\n",
       "      <th>27</th>\n",
       "      <td>7.91</td>\n",
       "      <td>39.96</td>\n",
       "      <td>1023.57</td>\n",
       "      <td>88.44</td>\n",
       "      <td>475.52</td>\n",
       "    </tr>\n",
       "    <tr>\n",
       "      <th>28</th>\n",
       "      <td>5.81</td>\n",
       "      <td>35.79</td>\n",
       "      <td>1012.14</td>\n",
       "      <td>92.28</td>\n",
       "      <td>484.41</td>\n",
       "    </tr>\n",
       "    <tr>\n",
       "      <th>29</th>\n",
       "      <td>30.53</td>\n",
       "      <td>65.18</td>\n",
       "      <td>1012.69</td>\n",
       "      <td>41.85</td>\n",
       "      <td>437.89</td>\n",
       "    </tr>\n",
       "  </tbody>\n",
       "</table>\n",
       "</div>"
      ],
      "text/plain": [
       "       AT      V       AP     RH      PE\n",
       "0   14.96  41.76  1024.07  73.17  463.26\n",
       "1   25.18  62.96  1020.04  59.08  444.37\n",
       "2    5.11  39.40  1012.16  92.14  488.56\n",
       "3   20.86  57.32  1010.24  76.64  446.48\n",
       "4   10.82  37.50  1009.23  96.62  473.90\n",
       "5   26.27  59.44  1012.23  58.77  443.67\n",
       "6   15.89  43.96  1014.02  75.24  467.35\n",
       "7    9.48  44.71  1019.12  66.43  478.42\n",
       "8   14.64  45.00  1021.78  41.25  475.98\n",
       "9   11.74  43.56  1015.14  70.72  477.50\n",
       "10  17.99  43.72  1008.64  75.04  453.02\n",
       "11  20.14  46.93  1014.66  64.22  453.99\n",
       "12  24.34  73.50  1011.31  84.15  440.29\n",
       "13  25.71  58.59  1012.77  61.83  451.28\n",
       "14  26.19  69.34  1009.48  87.59  433.99\n",
       "15  21.42  43.79  1015.76  43.08  462.19\n",
       "16  18.21  45.00  1022.86  48.84  467.54\n",
       "17  11.04  41.74  1022.60  77.51  477.20\n",
       "18  14.45  52.75  1023.97  63.59  459.85\n",
       "19  13.97  38.47  1015.15  55.28  464.30\n",
       "20  17.76  42.42  1009.09  66.26  468.27\n",
       "21   5.41  40.07  1019.16  64.77  495.24\n",
       "22   7.76  42.28  1008.52  83.31  483.80\n",
       "23  27.23  63.90  1014.30  47.19  443.61\n",
       "24  27.36  48.60  1003.18  54.93  436.06\n",
       "25  27.47  70.72  1009.97  74.62  443.25\n",
       "26  14.60  39.31  1011.11  72.52  464.16\n",
       "27   7.91  39.96  1023.57  88.44  475.52\n",
       "28   5.81  35.79  1012.14  92.28  484.41\n",
       "29  30.53  65.18  1012.69  41.85  437.89"
      ]
     },
     "execution_count": 3,
     "metadata": {},
     "output_type": "execute_result"
    }
   ],
   "source": [
    "df.head(30)"
   ]
  },
  {
   "cell_type": "markdown",
   "id": "a2903c57",
   "metadata": {},
   "source": [
    "# separating Dependent and independent variable "
   ]
  },
  {
   "cell_type": "code",
   "execution_count": 4,
   "id": "43b9f2aa",
   "metadata": {},
   "outputs": [],
   "source": [
    "x = df.drop(['PE'],axis = 1)\n",
    "y = df['PE']"
   ]
  },
  {
   "cell_type": "code",
   "execution_count": 5,
   "id": "b3e92f3d",
   "metadata": {},
   "outputs": [
    {
     "data": {
      "text/html": [
       "<div>\n",
       "<style scoped>\n",
       "    .dataframe tbody tr th:only-of-type {\n",
       "        vertical-align: middle;\n",
       "    }\n",
       "\n",
       "    .dataframe tbody tr th {\n",
       "        vertical-align: top;\n",
       "    }\n",
       "\n",
       "    .dataframe thead th {\n",
       "        text-align: right;\n",
       "    }\n",
       "</style>\n",
       "<table border=\"1\" class=\"dataframe\">\n",
       "  <thead>\n",
       "    <tr style=\"text-align: right;\">\n",
       "      <th></th>\n",
       "      <th>AT</th>\n",
       "      <th>V</th>\n",
       "      <th>AP</th>\n",
       "      <th>RH</th>\n",
       "    </tr>\n",
       "  </thead>\n",
       "  <tbody>\n",
       "    <tr>\n",
       "      <th>0</th>\n",
       "      <td>14.96</td>\n",
       "      <td>41.76</td>\n",
       "      <td>1024.07</td>\n",
       "      <td>73.17</td>\n",
       "    </tr>\n",
       "    <tr>\n",
       "      <th>1</th>\n",
       "      <td>25.18</td>\n",
       "      <td>62.96</td>\n",
       "      <td>1020.04</td>\n",
       "      <td>59.08</td>\n",
       "    </tr>\n",
       "    <tr>\n",
       "      <th>2</th>\n",
       "      <td>5.11</td>\n",
       "      <td>39.40</td>\n",
       "      <td>1012.16</td>\n",
       "      <td>92.14</td>\n",
       "    </tr>\n",
       "    <tr>\n",
       "      <th>3</th>\n",
       "      <td>20.86</td>\n",
       "      <td>57.32</td>\n",
       "      <td>1010.24</td>\n",
       "      <td>76.64</td>\n",
       "    </tr>\n",
       "    <tr>\n",
       "      <th>4</th>\n",
       "      <td>10.82</td>\n",
       "      <td>37.50</td>\n",
       "      <td>1009.23</td>\n",
       "      <td>96.62</td>\n",
       "    </tr>\n",
       "    <tr>\n",
       "      <th>...</th>\n",
       "      <td>...</td>\n",
       "      <td>...</td>\n",
       "      <td>...</td>\n",
       "      <td>...</td>\n",
       "    </tr>\n",
       "    <tr>\n",
       "      <th>9563</th>\n",
       "      <td>16.65</td>\n",
       "      <td>49.69</td>\n",
       "      <td>1014.01</td>\n",
       "      <td>91.00</td>\n",
       "    </tr>\n",
       "    <tr>\n",
       "      <th>9564</th>\n",
       "      <td>13.19</td>\n",
       "      <td>39.18</td>\n",
       "      <td>1023.67</td>\n",
       "      <td>66.78</td>\n",
       "    </tr>\n",
       "    <tr>\n",
       "      <th>9565</th>\n",
       "      <td>31.32</td>\n",
       "      <td>74.33</td>\n",
       "      <td>1012.92</td>\n",
       "      <td>36.48</td>\n",
       "    </tr>\n",
       "    <tr>\n",
       "      <th>9566</th>\n",
       "      <td>24.48</td>\n",
       "      <td>69.45</td>\n",
       "      <td>1013.86</td>\n",
       "      <td>62.39</td>\n",
       "    </tr>\n",
       "    <tr>\n",
       "      <th>9567</th>\n",
       "      <td>21.60</td>\n",
       "      <td>62.52</td>\n",
       "      <td>1017.23</td>\n",
       "      <td>67.87</td>\n",
       "    </tr>\n",
       "  </tbody>\n",
       "</table>\n",
       "<p>9568 rows × 4 columns</p>\n",
       "</div>"
      ],
      "text/plain": [
       "         AT      V       AP     RH\n",
       "0     14.96  41.76  1024.07  73.17\n",
       "1     25.18  62.96  1020.04  59.08\n",
       "2      5.11  39.40  1012.16  92.14\n",
       "3     20.86  57.32  1010.24  76.64\n",
       "4     10.82  37.50  1009.23  96.62\n",
       "...     ...    ...      ...    ...\n",
       "9563  16.65  49.69  1014.01  91.00\n",
       "9564  13.19  39.18  1023.67  66.78\n",
       "9565  31.32  74.33  1012.92  36.48\n",
       "9566  24.48  69.45  1013.86  62.39\n",
       "9567  21.60  62.52  1017.23  67.87\n",
       "\n",
       "[9568 rows x 4 columns]"
      ]
     },
     "execution_count": 5,
     "metadata": {},
     "output_type": "execute_result"
    }
   ],
   "source": [
    "x"
   ]
  },
  {
   "cell_type": "code",
   "execution_count": 6,
   "id": "3df6cd93",
   "metadata": {},
   "outputs": [
    {
     "data": {
      "text/plain": [
       "0       463.26\n",
       "1       444.37\n",
       "2       488.56\n",
       "3       446.48\n",
       "4       473.90\n",
       "         ...  \n",
       "9563    460.03\n",
       "9564    469.62\n",
       "9565    429.57\n",
       "9566    435.74\n",
       "9567    453.28\n",
       "Name: PE, Length: 9568, dtype: float64"
      ]
     },
     "execution_count": 6,
     "metadata": {},
     "output_type": "execute_result"
    }
   ],
   "source": [
    "y"
   ]
  },
  {
   "cell_type": "markdown",
   "id": "12b22395",
   "metadata": {},
   "source": [
    "# Train The Model On Training Dataset"
   ]
  },
  {
   "cell_type": "code",
   "execution_count": 7,
   "id": "857d9018",
   "metadata": {},
   "outputs": [],
   "source": [
    "from sklearn.model_selection import train_test_split as tst\n",
    "x_train,x_test,y_train,y_test = tst(x,y,test_size=0.3,random_state = 0)"
   ]
  },
  {
   "cell_type": "code",
   "execution_count": 8,
   "id": "4b1dd904",
   "metadata": {},
   "outputs": [],
   "source": [
    "from sklearn.linear_model import LinearRegression"
   ]
  },
  {
   "cell_type": "code",
   "execution_count": 9,
   "id": "0f4e35fd",
   "metadata": {},
   "outputs": [],
   "source": [
    "model = LinearRegression()"
   ]
  },
  {
   "cell_type": "code",
   "execution_count": 10,
   "id": "85d90b06",
   "metadata": {},
   "outputs": [
    {
     "data": {
      "text/plain": [
       "LinearRegression()"
      ]
     },
     "execution_count": 10,
     "metadata": {},
     "output_type": "execute_result"
    }
   ],
   "source": [
    "model.fit(x_train,y_train)"
   ]
  },
  {
   "cell_type": "markdown",
   "id": "4868f248",
   "metadata": {},
   "source": [
    "# Predicting The Test Set Data"
   ]
  },
  {
   "cell_type": "code",
   "execution_count": 11,
   "id": "6cc4957e",
   "metadata": {},
   "outputs": [
    {
     "data": {
      "text/plain": [
       "array([431.40245096, 458.61474119, 462.81967423, ..., 432.47380825,\n",
       "       436.16417243, 439.00714594])"
      ]
     },
     "execution_count": 11,
     "metadata": {},
     "output_type": "execute_result"
    }
   ],
   "source": [
    "y_pred = model.predict(x_test)\n",
    "y_pred"
   ]
  },
  {
   "cell_type": "code",
   "execution_count": 12,
   "id": "520a4d79",
   "metadata": {},
   "outputs": [
    {
     "data": {
      "text/plain": [
       "array([431.40245096, 458.61474119, 462.81967423, ..., 432.47380825,\n",
       "       436.16417243, 439.00714594])"
      ]
     },
     "execution_count": 12,
     "metadata": {},
     "output_type": "execute_result"
    }
   ],
   "source": [
    "#y_pred = model.predict([[17,41.76,1024.07,73.17]])\n",
    "y_pred"
   ]
  },
  {
   "cell_type": "markdown",
   "id": "ed46ce8d",
   "metadata": {},
   "source": [
    "# Evaluting the model"
   ]
  },
  {
   "cell_type": "code",
   "execution_count": 13,
   "id": "f406e134",
   "metadata": {},
   "outputs": [
    {
     "data": {
      "text/plain": [
       "0.9304112159477683"
      ]
     },
     "execution_count": 13,
     "metadata": {},
     "output_type": "execute_result"
    }
   ],
   "source": [
    "from sklearn.metrics import r2_score\n",
    "r2_score(y_test,y_pred)"
   ]
  },
  {
   "cell_type": "markdown",
   "id": "eaa37535",
   "metadata": {},
   "source": [
    "# plot the result"
   ]
  },
  {
   "cell_type": "code",
   "execution_count": 14,
   "id": "855c0b3e",
   "metadata": {},
   "outputs": [],
   "source": [
    "import matplotlib.pyplot as plt"
   ]
  },
  {
   "cell_type": "code",
   "execution_count": 15,
   "id": "6a82f447",
   "metadata": {},
   "outputs": [
    {
     "data": {
      "text/plain": [
       "Text(0, 0.5, 'predicted values')"
      ]
     },
     "execution_count": 15,
     "metadata": {},
     "output_type": "execute_result"
    },
    {
     "data": {
      "image/png": "[encoded data removed]",
      "text/plain": [
       "<Figure size 1080x720 with 1 Axes>"
      ]
     },
     "metadata": {
      "needs_background": "light"
     },
     "output_type": "display_data"
    }
   ],
   "source": [
    "plt.figure(figsize = (15,10))\n",
    "plt.scatter(y_test,y_pred,color = 'r')\n",
    "#plt.plot(y_test,y_pred)\n",
    "plt.title('y_test VS y_pred')\n",
    "plt.xlabel('original values')\n",
    "plt.ylabel('predicted values')\n",
    "\n"
   ]
  },
  {
   "cell_type": "markdown",
   "id": "0934051d",
   "metadata": {},
   "source": [
    "# Predicted values"
   ]
  },
  {
   "cell_type": "code",
   "execution_count": 16,
   "id": "3f40a5f9",
   "metadata": {},
   "outputs": [],
   "source": [
    "pred_df = pd.DataFrame({'Actual': y_test,'Predicted': y_test,'Difference':y_test - y_pred})"
   ]
  },
  {
   "cell_type": "code",
   "execution_count": 17,
   "id": "94e20ce2",
   "metadata": {},
   "outputs": [
    {
     "data": {
      "text/html": [
       "<div>\n",
       "<style scoped>\n",
       "    .dataframe tbody tr th:only-of-type {\n",
       "        vertical-align: middle;\n",
       "    }\n",
       "\n",
       "    .dataframe tbody tr th {\n",
       "        vertical-align: top;\n",
       "    }\n",
       "\n",
       "    .dataframe thead th {\n",
       "        text-align: right;\n",
       "    }\n",
       "</style>\n",
       "<table border=\"1\" class=\"dataframe\">\n",
       "  <thead>\n",
       "    <tr style=\"text-align: right;\">\n",
       "      <th></th>\n",
       "      <th>Actual</th>\n",
       "      <th>Predicted</th>\n",
       "      <th>Difference</th>\n",
       "    </tr>\n",
       "  </thead>\n",
       "  <tbody>\n",
       "    <tr>\n",
       "      <th>4834</th>\n",
       "      <td>431.23</td>\n",
       "      <td>431.23</td>\n",
       "      <td>-0.172451</td>\n",
       "    </tr>\n",
       "    <tr>\n",
       "      <th>1768</th>\n",
       "      <td>460.01</td>\n",
       "      <td>460.01</td>\n",
       "      <td>1.395259</td>\n",
       "    </tr>\n",
       "    <tr>\n",
       "      <th>2819</th>\n",
       "      <td>461.14</td>\n",
       "      <td>461.14</td>\n",
       "      <td>-1.679674</td>\n",
       "    </tr>\n",
       "    <tr>\n",
       "      <th>7779</th>\n",
       "      <td>445.90</td>\n",
       "      <td>445.90</td>\n",
       "      <td>-2.701237</td>\n",
       "    </tr>\n",
       "    <tr>\n",
       "      <th>7065</th>\n",
       "      <td>451.29</td>\n",
       "      <td>451.29</td>\n",
       "      <td>-6.589479</td>\n",
       "    </tr>\n",
       "    <tr>\n",
       "      <th>...</th>\n",
       "      <td>...</td>\n",
       "      <td>...</td>\n",
       "      <td>...</td>\n",
       "    </tr>\n",
       "    <tr>\n",
       "      <th>9339</th>\n",
       "      <td>475.86</td>\n",
       "      <td>475.86</td>\n",
       "      <td>3.832766</td>\n",
       "    </tr>\n",
       "    <tr>\n",
       "      <th>4871</th>\n",
       "      <td>477.94</td>\n",
       "      <td>477.94</td>\n",
       "      <td>3.934478</td>\n",
       "    </tr>\n",
       "    <tr>\n",
       "      <th>5128</th>\n",
       "      <td>426.86</td>\n",
       "      <td>426.86</td>\n",
       "      <td>-5.613808</td>\n",
       "    </tr>\n",
       "    <tr>\n",
       "      <th>7947</th>\n",
       "      <td>433.40</td>\n",
       "      <td>433.40</td>\n",
       "      <td>-2.764172</td>\n",
       "    </tr>\n",
       "    <tr>\n",
       "      <th>6409</th>\n",
       "      <td>441.94</td>\n",
       "      <td>441.94</td>\n",
       "      <td>2.932854</td>\n",
       "    </tr>\n",
       "  </tbody>\n",
       "</table>\n",
       "<p>2871 rows × 3 columns</p>\n",
       "</div>"
      ],
      "text/plain": [
       "      Actual  Predicted  Difference\n",
       "4834  431.23     431.23   -0.172451\n",
       "1768  460.01     460.01    1.395259\n",
       "2819  461.14     461.14   -1.679674\n",
       "7779  445.90     445.90   -2.701237\n",
       "7065  451.29     451.29   -6.589479\n",
       "...      ...        ...         ...\n",
       "9339  475.86     475.86    3.832766\n",
       "4871  477.94     477.94    3.934478\n",
       "5128  426.86     426.86   -5.613808\n",
       "7947  433.40     433.40   -2.764172\n",
       "6409  441.94     441.94    2.932854\n",
       "\n",
       "[2871 rows x 3 columns]"
      ]
     },
     "execution_count": 17,
     "metadata": {},
     "output_type": "execute_result"
    }
   ],
   "source": [
    "pred_df"
   ]
  },
  {
   "cell_type": "markdown",
   "id": "f3982045",
   "metadata": {},
   "source": [
    "# Mean squared error and mean absolute error"
   ]
  },
  {
   "cell_type": "code",
   "execution_count": 18,
   "id": "acce874b",
   "metadata": {},
   "outputs": [],
   "source": [
    "from sklearn.metrics import mean_squared_error,mean_absolute_error"
   ]
  },
  {
   "cell_type": "code",
   "execution_count": 19,
   "id": "ec617602",
   "metadata": {},
   "outputs": [
    {
     "data": {
      "text/plain": [
       "20.36838300288591"
      ]
     },
     "execution_count": 19,
     "metadata": {},
     "output_type": "execute_result"
    }
   ],
   "source": [
    "mean_squared_error(y_test,y_pred)"
   ]
  },
  {
   "cell_type": "code",
   "execution_count": 20,
   "id": "76c1e4e8",
   "metadata": {},
   "outputs": [
    {
     "data": {
      "text/plain": [
       "4.513134498647909"
      ]
     },
     "execution_count": 20,
     "metadata": {},
     "output_type": "execute_result"
    }
   ],
   "source": [
    "mean_squared_error(y_test,y_pred,squared=False)"
   ]
  },
  {
   "cell_type": "code",
   "execution_count": 21,
   "id": "9db44f3d",
   "metadata": {},
   "outputs": [
    {
     "data": {
      "text/plain": [
       "3.598266124779353"
      ]
     },
     "execution_count": 21,
     "metadata": {},
     "output_type": "execute_result"
    }
   ],
   "source": [
    "mean_absolute_error(y_test,y_pred)"
   ]
  },
  {
   "cell_type": "code",
   "execution_count": 22,
   "id": "aa42c8d0",
   "metadata": {},
   "outputs": [
    {
     "data": {
      "text/plain": [
       "array([463.34098612])"
      ]
     },
     "execution_count": 22,
     "metadata": {},
     "output_type": "execute_result"
    }
   ],
   "source": [
    "model.predict([[17,41.76,1024.07,73.17]])\n"
   ]
  },
  {
   "cell_type": "code",
   "execution_count": 23,
   "id": "478a8ab8",
   "metadata": {},
   "outputs": [
    {
     "name": "stdout",
     "output_type": "stream",
     "text": [
      "Enter AT (0-40) : 20\n",
      "Enter V (20-80) : 34\n",
      "Enter AP (1000-1050) : 1037\n",
      "Enter RH (50-100) : 58\n"
     ]
    }
   ],
   "source": [
    "a = int(input('Enter AT (0-40) : '))\n",
    "b = int(input('Enter V (20-80) : '))\n",
    "c = int(input('Enter AP (1000-1050) : '))\n",
    "d = int(input('Enter RH (50-100) : '))"
   ]
  },
  {
   "cell_type": "code",
   "execution_count": 24,
   "id": "8bd131a2",
   "metadata": {},
   "outputs": [
    {
     "data": {
      "text/plain": [
       "array([462.56396114])"
      ]
     },
     "execution_count": 24,
     "metadata": {},
     "output_type": "execute_result"
    }
   ],
   "source": [
    "model.predict([[a,b,c,d]])\n"
   ]
  },
  {
   "cell_type": "code",
   "execution_count": null,
   "id": "d5709bfc",
   "metadata": {},
   "outputs": [],
   "source": []
  }
 ],
 "metadata": {
  "kernelspec": {
   "display_name": "Python 3 (ipykernel)",
   "language": "python",
   "name": "python3"
  },
  "language_info": {
   "codemirror_mode": {
    "name": "ipython",
    "version": 3
   },
   "file_extension": ".py",
   "mimetype": "text/x-python",
   "name": "python",
   "nbconvert_exporter": "python",
   "pygments_lexer": "ipython3",
   "version": "3.9.7"
  }
 },
 "nbformat": 4,
 "nbformat_minor": 5
}
